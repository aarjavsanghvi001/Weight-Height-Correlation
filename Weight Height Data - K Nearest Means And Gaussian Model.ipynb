{
 "cells": [
  {
   "cell_type": "markdown",
   "metadata": {
    "id": "Wi_wIVzzbJIU"
   },
   "source": [
    "# **IDS575: Machine Learning and Statistical Methods**\n",
    "## [Quiz #09 - K-Means clustering and Gaussian mixture models(PA)]\n",
    "Group 2\n",
    "\n"
   ]
  },
  {
   "cell_type": "markdown",
   "metadata": {
    "id": "moARpwHCor_L"
   },
   "source": [
    "# Connecting Drive to Colab\n",
    "The first thing to do is mounting your Google Drive. This will enable you to access any directory on your Drive inside the Colab notebook."
   ]
  },
  {
   "cell_type": "code",
   "execution_count": 1,
   "metadata": {
    "colab": {
     "base_uri": "https://localhost:8080/"
    },
    "id": "Bg3ZNQn1o6Cq",
    "outputId": "f25c0fa9-b9c7-42d1-c0fe-37039452179d"
   },
   "outputs": [
    {
     "name": "stdout",
     "output_type": "stream",
     "text": [
      "Mounted at /content/drive\n"
     ]
    }
   ],
   "source": [
    "from google.colab import drive\n",
    "drive.mount('/content/drive')"
   ]
  },
  {
   "cell_type": "markdown",
   "metadata": {
    "id": "Ke9q7UTQo-IB"
   },
   "source": [
    "Go to the directory of your target file"
   ]
  },
  {
   "cell_type": "code",
   "execution_count": 2,
   "metadata": {
    "colab": {
     "base_uri": "https://localhost:8080/"
    },
    "id": "xQUD1xhPpFrU",
    "outputId": "077635a1-0649-4f19-9534-8e58095a19bc"
   },
   "outputs": [
    {
     "name": "stdout",
     "output_type": "stream",
     "text": [
      "/content/drive/My Drive/IDS575MLGroup2/GroupAssignment/PA5\n"
     ]
    }
   ],
   "source": [
    "%cd /content/drive/My Drive/IDS575MLGroup2/GroupAssignment/PA5"
   ]
  },
  {
   "cell_type": "code",
   "execution_count": null,
   "metadata": {
    "colab": {
     "base_uri": "https://localhost:8080/"
    },
    "id": "cnx5PNEmpaqU",
    "outputId": "36cfe2d5-3f37-48ef-f507-615f612ac413"
   },
   "outputs": [
    {
     "name": "stdout",
     "output_type": "stream",
     "text": [
      "23995844.csv\n"
     ]
    }
   ],
   "source": [
    "!ls"
   ]
  },
  {
   "cell_type": "markdown",
   "metadata": {
    "id": "Fs-KJZ7jbJIh"
   },
   "source": [
    "## Import Libraries\n",
    "* See various conventions and acronyms."
   ]
  },
  {
   "cell_type": "code",
   "execution_count": 3,
   "metadata": {
    "id": "wAKMrSQubJIh"
   },
   "outputs": [],
   "source": [
    "import numpy as np\n",
    "import pandas as pd\n",
    "import matplotlib.pyplot as plt\n",
    "from sklearn.cluster import KMeans"
   ]
  },
  {
   "cell_type": "markdown",
   "metadata": {
    "id": "dINsxbBvbJIi"
   },
   "source": [
    "## Load the data\n",
    "* Verify Python type for the dataset."
   ]
  },
  {
   "cell_type": "code",
   "execution_count": 4,
   "metadata": {
    "colab": {
     "base_uri": "https://localhost:8080/"
    },
    "id": "SxTBFShOc9xp",
    "outputId": "5b325260-2c54-49ad-aa67-ca51ee474308"
   },
   "outputs": [
    {
     "name": "stdout",
     "output_type": "stream",
     "text": [
      "<class 'pandas.core.frame.DataFrame'>\n",
      "Index(['Weight', 'Height'], dtype='object')\n"
     ]
    }
   ],
   "source": [
    "WHDataset = pd.read_csv('/content/drive/My Drive/IDS575MLGroup2/GroupAssignment/PA5/23995844.csv')\n",
    "print(type(WHDataset))\n",
    "print(WHDataset.keys())"
   ]
  },
  {
   "cell_type": "code",
   "execution_count": 5,
   "metadata": {
    "colab": {
     "base_uri": "https://localhost:8080/",
     "height": 201
    },
    "id": "gSjQEwGm8v23",
    "outputId": "4ebad1b1-cbbe-4594-a7c2-06c14b86efb2"
   },
   "outputs": [
    {
     "data": {
      "text/html": [
       "\n",
       "  <div id=\"df-b039244a-b7fa-40f7-b334-ce2220a5b178\">\n",
       "    <div class=\"colab-df-container\">\n",
       "      <div>\n",
       "<style scoped>\n",
       "    .dataframe tbody tr th:only-of-type {\n",
       "        vertical-align: middle;\n",
       "    }\n",
       "\n",
       "    .dataframe tbody tr th {\n",
       "        vertical-align: top;\n",
       "    }\n",
       "\n",
       "    .dataframe thead th {\n",
       "        text-align: right;\n",
       "    }\n",
       "</style>\n",
       "<table border=\"1\" class=\"dataframe\">\n",
       "  <thead>\n",
       "    <tr style=\"text-align: right;\">\n",
       "      <th></th>\n",
       "      <th>Weight</th>\n",
       "      <th>Height</th>\n",
       "    </tr>\n",
       "  </thead>\n",
       "  <tbody>\n",
       "    <tr>\n",
       "      <th>0</th>\n",
       "      <td>67.062924</td>\n",
       "      <td>176.086355</td>\n",
       "    </tr>\n",
       "    <tr>\n",
       "      <th>1</th>\n",
       "      <td>68.804094</td>\n",
       "      <td>178.388669</td>\n",
       "    </tr>\n",
       "    <tr>\n",
       "      <th>2</th>\n",
       "      <td>60.930863</td>\n",
       "      <td>170.284496</td>\n",
       "    </tr>\n",
       "    <tr>\n",
       "      <th>3</th>\n",
       "      <td>59.733843</td>\n",
       "      <td>168.691992</td>\n",
       "    </tr>\n",
       "    <tr>\n",
       "      <th>4</th>\n",
       "      <td>65.431230</td>\n",
       "      <td>173.763679</td>\n",
       "    </tr>\n",
       "  </tbody>\n",
       "</table>\n",
       "</div>\n",
       "      <button class=\"colab-df-convert\" onclick=\"convertToInteractive('df-b039244a-b7fa-40f7-b334-ce2220a5b178')\"\n",
       "              title=\"Convert this dataframe to an interactive table.\"\n",
       "              style=\"display:none;\">\n",
       "        \n",
       "  <svg xmlns=\"http://www.w3.org/2000/svg\" height=\"24px\"viewBox=\"0 0 24 24\"\n",
       "       width=\"24px\">\n",
       "    <path d=\"M0 0h24v24H0V0z\" fill=\"none\"/>\n",
       "    <path d=\"M18.56 5.44l.94 2.06.94-2.06 2.06-.94-2.06-.94-.94-2.06-.94 2.06-2.06.94zm-11 1L8.5 8.5l.94-2.06 2.06-.94-2.06-.94L8.5 2.5l-.94 2.06-2.06.94zm10 10l.94 2.06.94-2.06 2.06-.94-2.06-.94-.94-2.06-.94 2.06-2.06.94z\"/><path d=\"M17.41 7.96l-1.37-1.37c-.4-.4-.92-.59-1.43-.59-.52 0-1.04.2-1.43.59L10.3 9.45l-7.72 7.72c-.78.78-.78 2.05 0 2.83L4 21.41c.39.39.9.59 1.41.59.51 0 1.02-.2 1.41-.59l7.78-7.78 2.81-2.81c.8-.78.8-2.07 0-2.86zM5.41 20L4 18.59l7.72-7.72 1.47 1.35L5.41 20z\"/>\n",
       "  </svg>\n",
       "      </button>\n",
       "      \n",
       "  <style>\n",
       "    .colab-df-container {\n",
       "      display:flex;\n",
       "      flex-wrap:wrap;\n",
       "      gap: 12px;\n",
       "    }\n",
       "\n",
       "    .colab-df-convert {\n",
       "      background-color: #E8F0FE;\n",
       "      border: none;\n",
       "      border-radius: 50%;\n",
       "      cursor: pointer;\n",
       "      display: none;\n",
       "      fill: #1967D2;\n",
       "      height: 32px;\n",
       "      padding: 0 0 0 0;\n",
       "      width: 32px;\n",
       "    }\n",
       "\n",
       "    .colab-df-convert:hover {\n",
       "      background-color: #E2EBFA;\n",
       "      box-shadow: 0px 1px 2px rgba(60, 64, 67, 0.3), 0px 1px 3px 1px rgba(60, 64, 67, 0.15);\n",
       "      fill: #174EA6;\n",
       "    }\n",
       "\n",
       "    [theme=dark] .colab-df-convert {\n",
       "      background-color: #3B4455;\n",
       "      fill: #D2E3FC;\n",
       "    }\n",
       "\n",
       "    [theme=dark] .colab-df-convert:hover {\n",
       "      background-color: #434B5C;\n",
       "      box-shadow: 0px 1px 3px 1px rgba(0, 0, 0, 0.15);\n",
       "      filter: drop-shadow(0px 1px 2px rgba(0, 0, 0, 0.3));\n",
       "      fill: #FFFFFF;\n",
       "    }\n",
       "  </style>\n",
       "\n",
       "      <script>\n",
       "        const buttonEl =\n",
       "          document.querySelector('#df-b039244a-b7fa-40f7-b334-ce2220a5b178 button.colab-df-convert');\n",
       "        buttonEl.style.display =\n",
       "          google.colab.kernel.accessAllowed ? 'block' : 'none';\n",
       "\n",
       "        async function convertToInteractive(key) {\n",
       "          const element = document.querySelector('#df-b039244a-b7fa-40f7-b334-ce2220a5b178');\n",
       "          const dataTable =\n",
       "            await google.colab.kernel.invokeFunction('convertToInteractive',\n",
       "                                                     [key], {});\n",
       "          if (!dataTable) return;\n",
       "\n",
       "          const docLinkHtml = 'Like what you see? Visit the ' +\n",
       "            '<a target=\"_blank\" href=https://colab.research.google.com/notebooks/data_table.ipynb>data table notebook</a>'\n",
       "            + ' to learn more about interactive tables.';\n",
       "          element.innerHTML = '';\n",
       "          dataTable['output_type'] = 'display_data';\n",
       "          await google.colab.output.renderOutput(dataTable, element);\n",
       "          const docLink = document.createElement('div');\n",
       "          docLink.innerHTML = docLinkHtml;\n",
       "          element.appendChild(docLink);\n",
       "        }\n",
       "      </script>\n",
       "    </div>\n",
       "  </div>\n",
       "  "
      ],
      "text/plain": [
       "      Weight      Height\n",
       "0  67.062924  176.086355\n",
       "1  68.804094  178.388669\n",
       "2  60.930863  170.284496\n",
       "3  59.733843  168.691992\n",
       "4  65.431230  173.763679"
      ]
     },
     "execution_count": 5,
     "metadata": {},
     "output_type": "execute_result"
    }
   ],
   "source": [
    "WHDataset.head()"
   ]
  },
  {
   "cell_type": "markdown",
   "metadata": {
    "id": "8ooKj4Zwgtld"
   },
   "source": [
    "## Verify basic data statistics\n",
    "* Count the number of features. (i.e., attributes)\n",
    "* Count the number of examples. (i.e., instances and labels)\n",
    "* No class labels"
   ]
  },
  {
   "cell_type": "code",
   "execution_count": 6,
   "metadata": {
    "colab": {
     "base_uri": "https://localhost:8080/"
    },
    "id": "2ycsrrcXeYx3",
    "outputId": "b3360a10-e867-46e0-bac6-604bc9e396d4"
   },
   "outputs": [
    {
     "name": "stdout",
     "output_type": "stream",
     "text": [
      "- # of features = 2\n",
      "- # of examples = 500\n",
      "        Weight      Height\n",
      "0    67.062924  176.086355\n",
      "1    68.804094  178.388669\n",
      "2    60.930863  170.284496\n",
      "3    59.733843  168.691992\n",
      "4    65.431230  173.763679\n",
      "..         ...         ...\n",
      "495  59.976983  169.679741\n",
      "496  66.423814  174.625574\n",
      "497  53.604698  161.919208\n",
      "498  50.433644  160.794875\n",
      "499  60.224392  169.689709\n",
      "\n",
      "[500 rows x 2 columns]\n"
     ]
    }
   ],
   "source": [
    "def printBasicStats(dataset):\n",
    "  print('- # of features = %d' % (len(dataset.keys())))\n",
    "  print('- # of examples = %d' % len(dataset))\n",
    "  \n",
    "printBasicStats(WHDataset)\n",
    "print(WHDataset)"
   ]
  },
  {
   "cell_type": "code",
   "execution_count": 7,
   "metadata": {
    "colab": {
     "base_uri": "https://localhost:8080/"
    },
    "id": "zByBjTlB_BEH",
    "outputId": "90122b47-6ca8-46b7-8814-44edd2e4530c"
   },
   "outputs": [
    {
     "data": {
      "text/plain": [
       "Weight    500\n",
       "Height    500\n",
       "dtype: int64"
      ]
     },
     "execution_count": 7,
     "metadata": {},
     "output_type": "execute_result"
    }
   ],
   "source": [
    "WHDataset.count()"
   ]
  },
  {
   "cell_type": "markdown",
   "metadata": {
    "id": "Xaysatbkurvx"
   },
   "source": [
    "View the summary of X to make sure all features are numerical. K-means is performed only on the numerical data. If you have categorical variables, you need to convert them into integers"
   ]
  },
  {
   "cell_type": "code",
   "execution_count": 8,
   "metadata": {
    "colab": {
     "base_uri": "https://localhost:8080/"
    },
    "id": "TgJGfsfZvMbK",
    "outputId": "48491300-0807-4860-d695-797996d5b6ad"
   },
   "outputs": [
    {
     "name": "stdout",
     "output_type": "stream",
     "text": [
      "<class 'pandas.core.frame.DataFrame'>\n",
      "RangeIndex: 500 entries, 0 to 499\n",
      "Data columns (total 2 columns):\n",
      " #   Column  Non-Null Count  Dtype  \n",
      "---  ------  --------------  -----  \n",
      " 0   Weight  500 non-null    float64\n",
      " 1   Height  500 non-null    float64\n",
      "dtypes: float64(2)\n",
      "memory usage: 7.9 KB\n"
     ]
    }
   ],
   "source": [
    "WHDataset.info()"
   ]
  },
  {
   "cell_type": "markdown",
   "metadata": {
    "id": "O-a_Fm2du-mT"
   },
   "source": [
    "## Data inspection\n",
    "* See correlations between features.\n",
    "* Draw heatmap\n"
   ]
  },
  {
   "cell_type": "code",
   "execution_count": 9,
   "metadata": {
    "colab": {
     "base_uri": "https://localhost:8080/",
     "height": 335
    },
    "id": "zaQuKmCXbJIj",
    "outputId": "209ae38a-e638-4aca-db77-fbc6a730bc2b"
   },
   "outputs": [
    {
     "name": "stdout",
     "output_type": "stream",
     "text": [
      "          Weight    Height\n",
      "Weight  1.000000  0.957441\n",
      "Height  0.957441  1.000000\n"
     ]
    },
    {
     "data": {
      "text/plain": [
       "<matplotlib.axes._subplots.AxesSubplot at 0x7f18ed51ec90>"
      ]
     },
     "execution_count": 9,
     "metadata": {},
     "output_type": "execute_result"
    },
    {
     "data": {
      "image/png": "[encoded data removed]",
      "text/plain": [
       "<Figure size 432x288 with 2 Axes>"
      ]
     },
     "metadata": {
      "needs_background": "light"
     },
     "output_type": "display_data"
    }
   ],
   "source": [
    "print(WHDataset.corr())\n",
    "\n",
    "import seaborn as sns\n",
    "sns.heatmap(WHDataset.corr(), cmap=sns.diverging_palette(220, 10, as_cmap=True))"
   ]
  },
  {
   "cell_type": "markdown",
   "metadata": {
    "id": "nKDOaPKAZUTy"
   },
   "source": [
    "# **1. K-Means**"
   ]
  },
  {
   "cell_type": "markdown",
   "metadata": {
    "id": "WMcdoEH9-6Np"
   },
   "source": [
    "## Using existing library sklearn.cluster.KMeans¶\n",
    "* Use only two columns for visulization\n",
    "* Fit and predict. https://scikit-learn.org/stable/modules/generated/sklearn.cluster.KMeans.html\n",
    "* Find the best number of k.\n"
   ]
  },
  {
   "cell_type": "code",
   "execution_count": 10,
   "metadata": {
    "colab": {
     "base_uri": "https://localhost:8080/",
     "height": 264
    },
    "id": "Ypika44nyGYB",
    "outputId": "0b419286-ba77-45cf-fdc1-65b41d46d8be"
   },
   "outputs": [
    {
     "data": {
      "image/png": "[encoded data removed]",
      "text/plain": [
       "<Figure size 432x288 with 1 Axes>"
      ]
     },
     "metadata": {
      "needs_background": "light"
     },
     "output_type": "display_data"
    }
   ],
   "source": [
    "plt.scatter(WHDataset['Weight'],WHDataset['Height'])\n",
    "plt.show()"
   ]
  },
  {
   "cell_type": "code",
   "execution_count": 11,
   "metadata": {
    "colab": {
     "base_uri": "https://localhost:8080/"
    },
    "id": "6At9tfyu_wcC",
    "outputId": "6d1eae1f-e188-4db0-8712-9aec4e3a5c76"
   },
   "outputs": [
    {
     "data": {
      "text/plain": [
       "KMeans(init='random', n_clusters=4, random_state=5)"
      ]
     },
     "execution_count": 11,
     "metadata": {},
     "output_type": "execute_result"
    }
   ],
   "source": [
    "kmeans = KMeans(n_clusters=4, init='random',random_state=5) \n",
    "# initializing methods:\n",
    "# ‘k-means++’ : selects initial cluster centers for k-mean clustering in a smart way to speed up convergence. See section Notes in k_init for more details.\n",
    "# ‘random’: choose n_clusters observations (rows) at random from data for the initial centroids.\n",
    "\n",
    "kmeans.fit(WHDataset)"
   ]
  },
  {
   "cell_type": "markdown",
   "metadata": {
    "id": "KLPDvhbh0xwX"
   },
   "source": [
    "**Clustering results**"
   ]
  },
  {
   "cell_type": "code",
   "execution_count": 12,
   "metadata": {
    "colab": {
     "base_uri": "https://localhost:8080/"
    },
    "id": "Mrnqo3u007ot",
    "outputId": "0fec54c3-ff2f-403d-8d0c-31366267ea9d"
   },
   "outputs": [
    {
     "data": {
      "text/plain": [
       "array([0, 0, 3, 3, 0, 3, 1, 3, 1, 2, 1, 0, 1, 2, 3, 3, 0, 3, 2, 3, 3, 0,\n",
       "       1, 2, 3, 2, 0, 1, 2, 1, 1, 1, 0, 1, 1, 0, 2, 1, 2, 0, 2, 1, 3, 0,\n",
       "       1, 0, 1, 3, 0, 0, 2, 2, 1, 1, 3, 1, 1, 2, 2, 0, 0, 2, 0, 0, 0, 1,\n",
       "       3, 0, 3, 1, 2, 3, 2, 0, 2, 0, 1, 1, 3, 3, 2, 3, 2, 1, 3, 1, 2, 2,\n",
       "       0, 2, 2, 2, 0, 2, 3, 3, 0, 0, 0, 3, 2, 2, 0, 2, 3, 3, 3, 0, 3, 2,\n",
       "       2, 1, 2, 2, 0, 2, 0, 3, 1, 0, 1, 2, 0, 0, 2, 0, 0, 0, 0, 2, 3, 2,\n",
       "       1, 2, 2, 2, 3, 0, 3, 1, 0, 0, 0, 0, 1, 2, 1, 3, 1, 2, 2, 0, 3, 3,\n",
       "       3, 1, 1, 0, 3, 3, 0, 3, 0, 0, 1, 1, 0, 3, 2, 1, 0, 2, 0, 1, 1, 2,\n",
       "       1, 2, 2, 2, 0, 0, 1, 3, 3, 2, 1, 0, 1, 2, 0, 1, 2, 1, 1, 2, 3, 1,\n",
       "       3, 2, 2, 3, 3, 1, 3, 1, 1, 3, 1, 1, 3, 0, 0, 0, 3, 0, 1, 2, 2, 2,\n",
       "       1, 0, 1, 2, 1, 0, 2, 3, 2, 3, 1, 1, 3, 1, 3, 1, 3, 1, 2, 0, 0, 1,\n",
       "       3, 0, 2, 2, 3, 0, 3, 1, 3, 1, 0, 2, 3, 2, 2, 1, 2, 1, 3, 3, 0, 2,\n",
       "       0, 0, 3, 3, 2, 0, 3, 2, 0, 3, 0, 2, 1, 1, 3, 0, 0, 3, 0, 1, 0, 3,\n",
       "       1, 0, 3, 3, 3, 0, 2, 2, 0, 2, 2, 2, 3, 0, 0, 2, 1, 2, 0, 0, 1, 2,\n",
       "       2, 3, 2, 1, 0, 1, 2, 1, 2, 3, 1, 3, 3, 3, 1, 1, 2, 0, 3, 1, 2, 0,\n",
       "       3, 3, 0, 0, 1, 0, 1, 3, 3, 1, 2, 0, 0, 1, 0, 3, 0, 0, 0, 0, 3, 0,\n",
       "       3, 0, 3, 3, 2, 0, 3, 2, 2, 3, 3, 0, 0, 1, 1, 0, 3, 2, 3, 3, 3, 2,\n",
       "       3, 3, 3, 2, 2, 3, 2, 2, 3, 2, 2, 1, 3, 1, 1, 2, 2, 2, 2, 0, 2, 0,\n",
       "       3, 0, 2, 3, 0, 3, 0, 3, 3, 1, 2, 3, 2, 1, 1, 0, 2, 1, 3, 0, 2, 1,\n",
       "       1, 3, 0, 3, 0, 1, 0, 1, 0, 2, 3, 0, 2, 0, 3, 1, 1, 1, 0, 2, 3, 3,\n",
       "       1, 0, 0, 3, 3, 1, 3, 3, 2, 0, 1, 0, 2, 3, 1, 1, 2, 1, 3, 2, 1, 1,\n",
       "       1, 1, 1, 3, 2, 0, 1, 0, 3, 0, 1, 2, 3, 2, 1, 2, 3, 2, 3, 1, 1, 2,\n",
       "       1, 1, 3, 2, 0, 1, 1, 2, 1, 3, 3, 3, 0, 2, 2, 3], dtype=int32)"
      ]
     },
     "execution_count": 12,
     "metadata": {},
     "output_type": "execute_result"
    }
   ],
   "source": [
    "identified_clusters = kmeans.fit_predict(WHDataset)\n",
    "identified_clusters"
   ]
  },
  {
   "cell_type": "code",
   "execution_count": 13,
   "metadata": {
    "colab": {
     "base_uri": "https://localhost:8080/",
     "height": 281
    },
    "id": "cxZW8m3b1DTv",
    "outputId": "b2885e62-163a-4f9c-915b-7a334efdf410"
   },
   "outputs": [
    {
     "data": {
      "text/plain": [
       "<matplotlib.collections.PathCollection at 0x7f18e9e5c4d0>"
      ]
     },
     "execution_count": 13,
     "metadata": {},
     "output_type": "execute_result"
    },
    {
     "data": {
      "image/png": "[encoded data removed]",
      "text/plain": [
       "<Figure size 432x288 with 1 Axes>"
      ]
     },
     "metadata": {
      "needs_background": "light"
     },
     "output_type": "display_data"
    }
   ],
   "source": [
    "# plot clusters in different colors\n",
    "data_with_clusters = WHDataset.copy()\n",
    "data_with_clusters['Clusters'] = identified_clusters \n",
    "plt.scatter(data_with_clusters['Weight'],data_with_clusters['Height'],c=data_with_clusters['Clusters'],cmap='rainbow')\n"
   ]
  },
  {
   "cell_type": "markdown",
   "metadata": {
    "id": "wbjXDdxhbJIv"
   },
   "source": [
    "## Finding optimum number of clusters"
   ]
  },
  {
   "cell_type": "code",
   "execution_count": 14,
   "metadata": {
    "id": "8w3UHNSCU74D"
   },
   "outputs": [],
   "source": [
    "clursters_range = [2,3,4,5,6,7,8,9,10]\n",
    "inertias = []\n",
    "\n",
    "for k in clursters_range:\n",
    "  kmeans = KMeans (init='k-means++',n_clusters=k, n_init=100, random_state=0).fit(WHDataset)\n",
    "  inertias.append(kmeans.inertia_) \n",
    "  # kmeans,inertia_ is the Sum of squared distances of samples to their closest cluster center, weighted by the sample weights if provided."
   ]
  },
  {
   "cell_type": "markdown",
   "metadata": {
    "id": "epdORpMz3-zM"
   },
   "source": [
    "**Elbow Method:**\n",
    "Find apoint which represents the most parsimonious balance between minimizing the number of clusters and minimizing the variance within each cluster"
   ]
  },
  {
   "cell_type": "code",
   "execution_count": 15,
   "metadata": {
    "colab": {
     "base_uri": "https://localhost:8080/",
     "height": 264
    },
    "id": "ylAaK_cv3jd1",
    "outputId": "970acc49-7688-4ecf-f18e-7794dd9868e7"
   },
   "outputs": [
    {
     "data": {
      "image/png": "[encoded data removed]",
      "text/plain": [
       "<Figure size 432x288 with 1 Axes>"
      ]
     },
     "metadata": {
      "needs_background": "light"
     },
     "output_type": "display_data"
    }
   ],
   "source": [
    "plt.figure()\n",
    "plt.plot(clursters_range, inertias, marker='o')\n",
    "plt.show()"
   ]
  },
  {
   "cell_type": "markdown",
   "metadata": {
    "id": "LzCKZ48W4afw"
   },
   "source": [
    "**Silhouette value Method:**\n",
    "*  use all the columns this time\n",
    "*  we want to have high silhouette coefficient for the number of clusters we want to use\n",
    "\n"
   ]
  },
  {
   "cell_type": "code",
   "execution_count": 16,
   "metadata": {
    "colab": {
     "base_uri": "https://localhost:8080/",
     "height": 296
    },
    "id": "9vscyUUT5oA3",
    "outputId": "367d0a00-1b3a-4b4e-d8ea-5657a97abf7a"
   },
   "outputs": [
    {
     "data": {
      "image/png": "[encoded data removed]",
      "text/plain": [
       "<Figure size 432x288 with 2 Axes>"
      ]
     },
     "metadata": {
      "needs_background": "light"
     },
     "output_type": "display_data"
    }
   ],
   "source": [
    "from sklearn.metrics import silhouette_score, silhouette_samples\n",
    "\n",
    "clursters_range = range(2,10)\n",
    "results = []\n",
    "\n",
    "for k in clursters_range:\n",
    "  kmeans = KMeans (init='k-means++',n_clusters=k, n_init=100, random_state=0)\n",
    "  cluster_labels = kmeans.fit_predict(WHDataset)\n",
    "  silhouette_avg = silhouette_score(WHDataset, cluster_labels)\n",
    "  results.append([k, silhouette_avg])\n",
    "\n",
    "result = pd.DataFrame(results, columns=['n_clusters','silhouette_score'])\n",
    "pivot_km = pd.pivot_table(result, index='n_clusters', values='silhouette_score')\n",
    "\n",
    "plt.figure()\n",
    "sns.heatmap(pivot_km, annot=True, linewidths=0.5, fmt='0.3f', cmap=sns.cm.rocket_r)\n",
    "plt.tight_layout()"
   ]
  },
  {
   "cell_type": "markdown",
   "metadata": {
    "id": "sYy61BwF-kQ2"
   },
   "source": [
    "# **2. Gaussian mixture models**\n",
    "## Using existing library sklearn.mixture.GaussianMixture"
   ]
  },
  {
   "cell_type": "code",
   "execution_count": 17,
   "metadata": {
    "colab": {
     "base_uri": "https://localhost:8080/"
    },
    "id": "BqnBvqw6Inil",
    "outputId": "3846afd9-f22f-4cb2-91a4-9ec9c87eacb0"
   },
   "outputs": [
    {
     "data": {
      "text/plain": [
       "GaussianMixture(n_components=4)"
      ]
     },
     "execution_count": 17,
     "metadata": {},
     "output_type": "execute_result"
    }
   ],
   "source": [
    "from sklearn.mixture import GaussianMixture \n",
    "gmm = GaussianMixture(n_components = 4) \n",
    "gmm.fit(WHDataset)"
   ]
  },
  {
   "cell_type": "code",
   "execution_count": 18,
   "metadata": {
    "colab": {
     "base_uri": "https://localhost:8080/",
     "height": 264
    },
    "id": "ujzEd3k_-_p4",
    "outputId": "3b740f13-6209-4efb-99a7-098cee458011"
   },
   "outputs": [
    {
     "data": {
      "image/png": "[encoded data removed]",
      "text/plain": [
       "<Figure size 432x288 with 1 Axes>"
      ]
     },
     "metadata": {
      "needs_background": "light"
     },
     "output_type": "display_data"
    }
   ],
   "source": [
    "# Visualizing the clustering \n",
    "plt.scatter(WHDataset['Weight'], WHDataset['Height'],  \n",
    "           c = GaussianMixture(n_components = 4).fit_predict(WHDataset), cmap =\"rainbow\") \n",
    "plt.show() \n",
    "# better than KMeans"
   ]
  },
  {
   "cell_type": "markdown",
   "metadata": {
    "id": "vNCp_nghYOhl"
   },
   "source": [
    "Draw ellipse"
   ]
  },
  {
   "cell_type": "code",
   "execution_count": 19,
   "metadata": {
    "id": "jLzJe7CJN-aq"
   },
   "outputs": [],
   "source": [
    "\n",
    "from matplotlib.patches import Ellipse\n",
    "\n",
    "def draw_ellipse(position, covariance, ax=None, **kwargs):\n",
    "    \"\"\"Draw an ellipse with a given position and covariance\"\"\"\n",
    "    ax = ax or plt.gca()\n",
    "    \n",
    "    # Convert covariance to principal axes\n",
    "    if covariance.shape == (2, 2):\n",
    "        U, s, Vt = np.linalg.svd(covariance)\n",
    "        angle = np.degrees(np.arctan2(U[1, 0], U[0, 0]))\n",
    "        width, height = 2 * np.sqrt(s)\n",
    "    else:\n",
    "        angle = 0\n",
    "        width, height = 2 * np.sqrt(covariance)\n",
    "    \n",
    "    # Draw the Ellipse\n",
    "    for nsig in range(1, 4):\n",
    "        ax.add_patch(Ellipse(position, nsig * width, nsig * height,\n",
    "                             angle, **kwargs))\n",
    "        \n",
    "def plot_gmm(gmm, X, label=True, ax=None):\n",
    "    ax = ax or plt.gca()\n",
    "    labels = gmm.fit(X).predict(X)\n",
    "    if label:\n",
    "        ax.scatter(X[\"Weight\"], X[\"Height\"], c=labels, s=40, cmap='rainbow', zorder=2)\n",
    "    else:\n",
    "        ax.scatter(X[\"Weight\"], X[\"Height\"], s=40, zorder=2)\n",
    "    ax.axis('equal')\n",
    "    \n",
    "    w_factor = 0.2 / gmm.weights_.max()\n",
    "    for pos, covar, w in zip(gmm.means_, gmm.covariances_, gmm.weights_):\n",
    "        draw_ellipse(pos, covar, alpha=w * w_factor)"
   ]
  },
  {
   "cell_type": "code",
   "execution_count": 20,
   "metadata": {
    "colab": {
     "base_uri": "https://localhost:8080/",
     "height": 264
    },
    "id": "qnUtPq3WOVGG",
    "outputId": "25072558-cd9f-41c5-906a-cd0ab35baf27"
   },
   "outputs": [
    {
     "data": {
      "image/png": "[encoded data removed]",
      "text/plain": [
       "<Figure size 432x288 with 1 Axes>"
      ]
     },
     "metadata": {
      "needs_background": "light"
     },
     "output_type": "display_data"
    }
   ],
   "source": [
    "plot_gmm(gmm, WHDataset)"
   ]
  },
  {
   "cell_type": "markdown",
   "metadata": {
    "id": "uY0kzI4igZtX"
   },
   "source": [
    "# Programming Assignment (PA)\n",
    "* Implement your own K-Means function\n",
    "* Implement you own EM algorithm for GMM"
   ]
  },
  {
   "cell_type": "markdown",
   "metadata": {
    "id": "il7tBd2OJyR2"
   },
   "source": [
    "## K-Means from scratch\n",
    "\n",
    "1.   List item\n",
    "2.   List item\n",
    "\n"
   ]
  },
  {
   "cell_type": "code",
   "execution_count": 49,
   "metadata": {
    "id": "e9i526jygfDn"
   },
   "outputs": [],
   "source": [
    "# Implement your own K-Means function\n",
    "class MyKMeans:  \n",
    "  cluster_labels = None\n",
    "  centroids = None\n",
    "\n",
    "  def fit(self, X, k):\n",
    "    if isinstance(X, pd.DataFrame):\n",
    "      X = X.values\n",
    "\n",
    "    centroidsChanged = 1\n",
    "    self.cluster_labels = np.zeros(X.shape[0]) \n",
    "\n",
    "    # select k random centroids\n",
    "    np.random.shuffle(X)\n",
    "    self.centroids = X[:4, :]\n",
    "    # print(\"initial \", self.centroids)\n",
    "    \n",
    "    while centroidsChanged:\n",
    "      # for each observation, compute the distances to current centroids and update the centroids\n",
    "      dist = np.linalg.norm(X - self.centroids[0,:],axis=1).reshape(-1,1)\n",
    "      dist = np.append(dist,np.linalg.norm(X - self.centroids[1,:],axis=1).reshape(-1,1),axis=1)\n",
    "      dist = np.append(dist,np.linalg.norm(X - self.centroids[2,:],axis=1).reshape(-1,1),axis=1)\n",
    "      dist = np.append(dist,np.linalg.norm(X - self.centroids[3,:],axis=1).reshape(-1,1),axis=1)\n",
    "      self.cluster_labels = np.argmin(dist,axis=1)\n",
    "      new_centroids = np.random.rand(k,2)\n",
    "      for class_ in set( self.cluster_labels):\n",
    "        new_centroids[class_,:] = np.mean(X[ self.cluster_labels == class_,:],axis=0)\n",
    "      ###############################################################\n",
    "      if np.count_nonzero(self.centroids - new_centroids) == 0:\n",
    "        centroidsChanged = 0\n",
    "      else:\n",
    "        self.centroids = new_centroids\n",
    "    \n",
    "    return self.centroids, self.cluster_labels  \n",
    "\n"
   ]
  },
  {
   "cell_type": "markdown",
   "metadata": {
    "id": "z5I-SVcm-lXD"
   },
   "source": [
    "Test your code"
   ]
  },
  {
   "cell_type": "code",
   "execution_count": 50,
   "metadata": {
    "colab": {
     "base_uri": "https://localhost:8080/"
    },
    "id": "hBoqqLyH-nqB",
    "outputId": "104d3408-6eb8-4a2e-b159-cca959c359b9"
   },
   "outputs": [
    {
     "name": "stdout",
     "output_type": "stream",
     "text": [
      "[[ 53.7051601  162.84412872]\n",
      " [ 60.54236832 169.36880116]\n",
      " [ 63.55158474 169.97573492]\n",
      " [ 67.47720433 175.93608369]] [0 1 1 3 1 1 0 3 0 3 3 2 2 1 3 0 1 0 0 2 1 0 0 0 1 3 2 3 3 1 2 2 3 1 1 2 3\n",
      " 0 2 0 0 2 2 1 0 2 0 1 1 2 3 1 0 2 0 0 3 2 2 2 1 0 1 1 1 0 3 3 0 3 1 0 1 0\n",
      " 3 1 3 3 1 3 2 0 2 0 1 2 1 2 2 3 0 2 3 3 1 1 1 0 3 3 3 2 0 1 0 3 1 1 1 0 1\n",
      " 1 0 2 3 2 1 3 0 3 3 3 2 0 1 2 3 3 2 3 1 3 2 3 2 0 3 3 1 0 1 3 3 2 0 1 3 2\n",
      " 2 0 3 3 0 3 1 2 3 1 2 2 1 1 0 0 2 1 1 1 3 2 2 1 2 3 1 0 0 2 2 0 2 3 1 2 2\n",
      " 0 0 3 2 0 0 0 3 3 0 0 2 2 3 3 3 0 0 0 1 0 2 1 0 0 2 2 1 3 0 2 1 1 2 1 2 3\n",
      " 1 1 3 3 0 3 0 3 1 1 1 3 3 2 2 2 1 1 2 1 0 0 2 3 1 0 1 3 1 3 3 3 3 1 3 1 3\n",
      " 0 1 1 1 0 1 0 0 3 2 1 2 1 2 3 1 3 0 0 0 3 3 3 0 3 1 3 0 0 0 3 0 1 2 2 1 0\n",
      " 0 2 2 3 3 0 0 1 3 3 1 1 3 0 2 0 0 0 2 3 1 2 1 3 2 0 0 2 2 0 0 0 2 0 3 3 2\n",
      " 3 3 2 2 1 2 2 3 0 2 3 1 0 2 2 1 1 1 1 3 1 0 0 0 2 1 1 2 1 3 1 0 1 0 3 1 2\n",
      " 3 1 1 2 3 1 2 0 2 3 2 3 0 1 2 0 0 2 0 3 3 0 0 1 3 1 2 2 2 3 0 3 0 1 0 1 1\n",
      " 1 3 0 0 3 1 0 2 3 2 1 2 2 1 1 0 1 3 1 0 0 2 1 3 1 3 2 2 2 0 1 2 2 2 2 3 1\n",
      " 0 2 3 2 2 0 2 2 2 1 0 0 3 1 0 3 0 2 3 0 1 2 3 3 2 1 0 3 1 0 3 3 0 2 3 0 0\n",
      " 3 1 0 0 2 1 1 3 0 0 3 2 0 3 1 1 0 2 3]\n"
     ]
    }
   ],
   "source": [
    "mykmeans = MyKMeans()\n",
    "centroids, clusters = mykmeans.fit(WHDataset,4)\n",
    "print (centroids, clusters)"
   ]
  },
  {
   "cell_type": "code",
   "execution_count": 51,
   "metadata": {
    "colab": {
     "base_uri": "https://localhost:8080/",
     "height": 281
    },
    "id": "SCBFy8BvHbUH",
    "outputId": "988a8a1a-7edb-4af3-bc43-3e47c5dfee6e"
   },
   "outputs": [
    {
     "data": {
      "text/plain": [
       "<matplotlib.collections.PathCollection at 0x7f18e5dd5e50>"
      ]
     },
     "execution_count": 51,
     "metadata": {},
     "output_type": "execute_result"
    },
    {
     "data": {
      "image/png": "[encoded data removed]",
      "text/plain": [
       "<Figure size 432x288 with 1 Axes>"
      ]
     },
     "metadata": {
      "needs_background": "light"
     },
     "output_type": "display_data"
    }
   ],
   "source": [
    "# plot clusters in different colors, and compare with the result using built-in kmeans\n",
    "data_with_clusters = WHDataset.copy()\n",
    "data_with_clusters['Clusters'] = clusters \n",
    "plt.scatter(data_with_clusters['Weight'],data_with_clusters['Height'],c=data_with_clusters['Clusters'],cmap='rainbow')\n"
   ]
  },
  {
   "cell_type": "markdown",
   "metadata": {
    "id": "LLxwEILMJ5Rf"
   },
   "source": [
    "## GMM from scratch\n",
    "https://www.youtube.com/watch?v=EWd1xRkyEog\n",
    "\n",
    "https://github.com/saniikakulkarni/Gaussian-Mixture-Model-from-scratch/blob/main/Gaussian_Mixture_Model_from_scratch.ipynb\n"
   ]
  },
  {
   "cell_type": "code",
   "execution_count": 57,
   "metadata": {
    "id": "h7FyMp2xJ9Dc"
   },
   "outputs": [],
   "source": [
    "from scipy.stats import multivariate_normal \n",
    "\n",
    "class MyGMM:\n",
    "    def __init__(self, k, max_iter=5):\n",
    "        self.k = k\n",
    "        self.max_iter = int(max_iter) \n",
    "\n",
    "    def initialize(self, X):\n",
    "        # convert pd.dataframe to np.array\n",
    "        X = X.to_numpy()\n",
    "        # returns the (r,c) value of the numpy array of X\n",
    "        self.shape = X.shape \n",
    "        # n has the number of rows while m has the number of columns of dataset X\n",
    "        self.n, self.m = self.shape \n",
    "        \n",
    "\n",
    "        # initial weights given to each cluster are stored in phi or P(Ci=j)\n",
    "        self.phi = np.full(shape=self.k, fill_value=1/self.k) \n",
    "\n",
    "        # initial weights given to each data point wrt to each cluster or P(Xi/Ci=j)\n",
    "        self.probs = np.full(shape=self.shape, fill_value=1/self.k)\n",
    "        \n",
    "        # dataset is divided randomly into k parts of unequal sizes\n",
    "        random_row = np.random.randint(low=0, high=self.n, size=self.k)\n",
    "\n",
    "        # initial value of mean of k Gaussians\n",
    "        self.mu = [  X[row_index,:] for row_index in random_row ] \n",
    "\n",
    "        # initial value of covariance matrix of k Gaussians\n",
    "        self.sigma = [ np.cov(X.T) for _ in range(self.k) ] \n",
    "        # theta =(mu1,sigma1,mu2,simga2......muk,sigmak)\n",
    "\n",
    "    # E-Step: update weights and phi holding mu and sigma constant\n",
    "    # Expectation\n",
    "    def e_step(self, X):\n",
    "        # updated weights or P(Xi/Ci=j)\n",
    "        self.probs = self.predict_proba(X) # you need to implement \"predic_proba\" function below\n",
    "        # mean of sum of probability of all data points wrt to one cluster is new updated probability of cluster k or (phi)k\n",
    "        self.phi = self.probs.mean(axis=0)\n",
    "        \n",
    "\n",
    "    # M-Step: update meu and sigma holding phi and weights constant\n",
    "    # Maximisation\n",
    "    def m_step(self, X):\n",
    "        for i in range(self.k):\n",
    "            # TO-DO: #############################################\n",
    "            weight = self.probs[:, [i]]\n",
    "            total_weight = weight.sum()\n",
    "            self.mu[i] = (X * weight).sum(axis=0) / total_weight\n",
    "            self.sigma[i] = np.cov(X.T,aweights=(weight/total_weight).flatten(), bias=True)\n",
    "            #########################################################\n",
    "\n",
    "    # responsible for clustering the data points correctly\n",
    "    def fit(self, X):\n",
    "        # initialise parameters like weights, phi, meu, sigma of all Gaussians in dataset X\n",
    "        self.initialize(X)\n",
    "\n",
    "        for iteration in range(self.max_iter):\n",
    "            # iterate to update the value of P(Xi/Ci=j) and (phi)k\n",
    "            self.e_step(X)\n",
    "            # iterate to update the value of meu and sigma as the clusters shift\n",
    "            self.m_step(X)\n",
    "            \n",
    "    # TO-DO: #############################################\n",
    "    # predicts probability of each data point wrt each cluster\n",
    "    def predict_proba(self, X):\n",
    "        # Creates a n*k matrix denoting probability of each point wrt each cluster \n",
    "        likelihood = np.zeros( (self.n, self.k) ) \n",
    "        for i in range(self.k):\n",
    "            distribution = multivariate_normal(mean=self.mu[i],cov=self.sigma[i])\n",
    "            # pdf : probability denisty function\n",
    "            likelihood[:,i] = distribution.pdf(X) \n",
    "\n",
    "        numerator = likelihood * self.phi\n",
    "        denominator = numerator.sum(axis=1)[:, np.newaxis]\n",
    "        probs = numerator / denominator\n",
    "        return probs\n",
    "    ###############################################################\n",
    "        \n",
    "    # predict function \n",
    "    def predict(self, X):\n",
    "        probs = self.predict_proba(X)\n",
    "        # datapoint belongs to cluster with maximum probability\n",
    "        # returns this value\n",
    "        return np.argmax(probs, axis=1)"
   ]
  },
  {
   "cell_type": "markdown",
   "metadata": {
    "id": "UfMboahzScmR"
   },
   "source": [
    "Try MyGMM"
   ]
  },
  {
   "cell_type": "code",
   "execution_count": 58,
   "metadata": {
    "id": "LFxVuyg7ScAo"
   },
   "outputs": [],
   "source": [
    "mygmm = MyGMM(k=4, max_iter=100)\n",
    "mygmm.fit(WHDataset)"
   ]
  },
  {
   "cell_type": "code",
   "execution_count": 59,
   "metadata": {
    "colab": {
     "base_uri": "https://localhost:8080/",
     "height": 264
    },
    "id": "g0A_mawCTrNU",
    "outputId": "4a175cfe-9bdd-427f-e3d9-1fe774ca5394"
   },
   "outputs": [
    {
     "data": {
      "image/png": "[encoded data removed]",
      "text/plain": [
       "<Figure size 432x288 with 1 Axes>"
      ]
     },
     "metadata": {
      "needs_background": "light"
     },
     "output_type": "display_data"
    }
   ],
   "source": [
    "# plot mygmm result\n",
    "def plot_mygmm(mygmm, X, label=True, ax=None):\n",
    "    ax = ax or plt.gca()\n",
    "    labels = mygmm.predict(X)\n",
    "  \n",
    "    if label:\n",
    "        ax.scatter(X[\"Weight\"], X[\"Height\"], c=labels, s=40, cmap='rainbow', zorder=2)\n",
    "    else:\n",
    "        ax.scatter(X[\"Weight\"], X[\"Height\"], s=40, zorder=2)\n",
    "    ax.axis('equal')\n",
    "    \n",
    "    w_factor = 0.3 / mygmm.phi.max()\n",
    "    for pos, covar, w in zip(mygmm.mu, mygmm.sigma, mygmm.phi):\n",
    "        draw_ellipse(pos, covar, alpha=w * w_factor)\n",
    "\n",
    "plot_mygmm(mygmm, WHDataset)"
   ]
  }
 ],
 "metadata": {
  "colab": {
   "collapsed_sections": [],
   "name": "IDS575_Quiz_09_KMmeansAndGMM_(PA5)_Deepak.ipynb",
   "provenance": []
  },
  "kernelspec": {
   "display_name": "Python 3",
   "language": "python",
   "name": "python3"
  },
  "language_info": {
   "codemirror_mode": {
    "name": "ipython",
    "version": 3
   },
   "file_extension": ".py",
   "mimetype": "text/x-python",
   "name": "python",
   "nbconvert_exporter": "python",
   "pygments_lexer": "ipython3",
   "version": "3.9.4"
  }
 },
 "nbformat": 4,
 "nbformat_minor": 1
}
